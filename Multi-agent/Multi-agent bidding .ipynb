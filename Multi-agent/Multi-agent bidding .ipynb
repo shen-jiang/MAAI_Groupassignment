{
 "cells": [
  {
   "cell_type": "code",
   "execution_count": 1,
   "metadata": {},
   "outputs": [],
   "source": [
    "import pandas as pd\n",
    "import numpy as np\n",
    "import os\n",
    "import random\n",
    "import matplotlib.pyplot as plt\n",
    "import operator\n",
    "from sklearn.pipeline import Pipeline\n",
    "from sklearn.pipeline import _name_estimators\n",
    "from sklearn.metrics import roc_auc_score\n",
    "from sklearn.metrics import roc_curve,auc\n",
    "from sklearn.metrics import log_loss\n",
    "from sklearn.model_selection import cross_val_score\n",
    "from sklearn.base import BaseEstimator\n",
    "from sklearn.base import ClassifierMixin\n",
    "from sklearn.preprocessing import LabelEncoder\n",
    "from sklearn.externals import six\n",
    "from sklearn.base import clone\n",
    "from sklearn.linear_model import LogisticRegression  \n",
    "from sklearn.tree import DecisionTreeClassifier\n",
    "from sklearn.ensemble import RandomForestClassifier\n",
    "from sklearn.model_selection import GridSearchCV\n",
    "from sklearn.model_selection import StratifiedKFold\n",
    "import xgboost\n",
    "from xgboost import XGBClassifier"
   ]
  },
  {
   "cell_type": "code",
   "execution_count": 3,
   "metadata": {},
   "outputs": [],
   "source": [
    "from sklearn.externals import joblib"
   ]
  },
  {
   "cell_type": "code",
   "execution_count": 4,
   "metadata": {},
   "outputs": [],
   "source": [
    "X_resampled = joblib.load(\"pCTR_X_train_resampled.pkl\")\n",
    "y_resampled = joblib.load(\"pCTR_y_train_resampled.pkl\")\n",
    "X_valid = joblib.load(\"pCTR_X_validation.pkl\")"
   ]
  },
  {
   "cell_type": "code",
   "execution_count": 5,
   "metadata": {},
   "outputs": [],
   "source": [
    "train = pd.read_csv(\"train.csv\")\n",
    "validation = pd.read_csv(\"validation.csv\")\n",
    "test = pd.read_csv(\"test.csv\")"
   ]
  },
  {
   "cell_type": "markdown",
   "metadata": {},
   "source": [
    "### XGBOOST bid price"
   ]
  },
  {
   "cell_type": "code",
   "execution_count": 9,
   "metadata": {},
   "outputs": [],
   "source": [
    "xgb_model = XGBClassifier(n_estimators = 700, max_depth = 5, learning_rate = 0.1,\n",
    "                                                          random_state = 100)"
   ]
  },
  {
   "cell_type": "code",
   "execution_count": 10,
   "metadata": {},
   "outputs": [
    {
     "data": {
      "text/plain": [
       "XGBClassifier(base_score=0.5, booster='gbtree', colsample_bylevel=1,\n",
       "       colsample_bytree=1, gamma=0, learning_rate=0.1, max_delta_step=0,\n",
       "       max_depth=5, min_child_weight=1, missing=None, n_estimators=700,\n",
       "       n_jobs=1, nthread=None, objective='binary:logistic',\n",
       "       random_state=100, reg_alpha=0, reg_lambda=1, scale_pos_weight=1,\n",
       "       seed=None, silent=True, subsample=1)"
      ]
     },
     "execution_count": 10,
     "metadata": {},
     "output_type": "execute_result"
    }
   ],
   "source": [
    "features_total_names = joblib.load(\"total_features_basebid.pkl\")\n",
    "estimator = xgb_model\n",
    "X_train = pd.DataFrame(columns=features_total_names, data=X_resampled)\n",
    "y_train = y_resampled\n",
    "estimator.fit(X_train,y_train)"
   ]
  },
  {
   "cell_type": "code",
   "execution_count": 11,
   "metadata": {},
   "outputs": [],
   "source": [
    "preds = estimator.predict(X_valid)"
   ]
  },
  {
   "cell_type": "code",
   "execution_count": 15,
   "metadata": {},
   "outputs": [],
   "source": [
    "pred_proba = estimator.predict_proba(X_valid)\n",
    "w = (40000-1786)/train.shape[0]\n",
    "avgCTR = sum(train.click)/train.shape[0]\n",
    "valid_score = pred_proba[:,1]/(pred_proba[:,1]+(1-pred_proba[:,1])/w)"
   ]
  },
  {
   "cell_type": "code",
   "execution_count": 18,
   "metadata": {},
   "outputs": [],
   "source": [
    "XGB_bid = []\n",
    "for i in range(validation.shape[0]):\n",
    "    XGB_bid.append(np.sqrt(93.9455 / 5e-06 * valid_score[i] + 93.9455 ** 2) - 93.9455)"
   ]
  },
  {
   "cell_type": "markdown",
   "metadata": {},
   "source": [
    "### LR bid price"
   ]
  },
  {
   "cell_type": "code",
   "execution_count": 21,
   "metadata": {},
   "outputs": [],
   "source": [
    "lr_model = LogisticRegression(penalty=\"l2\", C=1.0)"
   ]
  },
  {
   "cell_type": "code",
   "execution_count": 22,
   "metadata": {},
   "outputs": [
    {
     "name": "stderr",
     "output_type": "stream",
     "text": [
      "C:\\Users\\JS\\Anaconda3\\lib\\site-packages\\sklearn\\linear_model\\logistic.py:433: FutureWarning: Default solver will be changed to 'lbfgs' in 0.22. Specify a solver to silence this warning.\n",
      "  FutureWarning)\n"
     ]
    },
    {
     "data": {
      "text/plain": [
       "LogisticRegression(C=1.0, class_weight=None, dual=False, fit_intercept=True,\n",
       "          intercept_scaling=1, max_iter=100, multi_class='warn',\n",
       "          n_jobs=None, penalty='l2', random_state=None, solver='warn',\n",
       "          tol=0.0001, verbose=0, warm_start=False)"
      ]
     },
     "execution_count": 22,
     "metadata": {},
     "output_type": "execute_result"
    }
   ],
   "source": [
    "features_total_names = joblib.load(\"total_features_basebid.pkl\")\n",
    "estimator = lr_model\n",
    "X_train = pd.DataFrame(columns=features_total_names, data=X_resampled)\n",
    "y_train = y_resampled\n",
    "estimator.fit(X_train,y_train)"
   ]
  },
  {
   "cell_type": "code",
   "execution_count": 23,
   "metadata": {},
   "outputs": [],
   "source": [
    "preds1 = estimator.predict(X_valid)"
   ]
  },
  {
   "cell_type": "code",
   "execution_count": 24,
   "metadata": {},
   "outputs": [],
   "source": [
    "pred_proba1 = estimator.predict_proba(X_valid)\n",
    "w = (40000-1786)/train.shape[0]\n",
    "avgCTR = sum(train.click)/train.shape[0]\n",
    "valid_score = pred_proba1[:,1]/(pred_proba1[:,1]+(1-pred_proba1[:,1])/w)"
   ]
  },
  {
   "cell_type": "code",
   "execution_count": 25,
   "metadata": {},
   "outputs": [],
   "source": [
    "LR_bid = []\n",
    "for i in range(validation.shape[0]):\n",
    "    LR_bid.append(np.sqrt(74.7727 / 5e-06 * valid_score[i] + 74.7727 ** 2) - 74.7727)"
   ]
  },
  {
   "cell_type": "markdown",
   "metadata": {},
   "source": [
    "### LightGBM"
   ]
  },
  {
   "cell_type": "code",
   "execution_count": 30,
   "metadata": {},
   "outputs": [],
   "source": [
    "import lightgbm\n",
    "lgbm = lightgbm.LGBMClassifier(\n",
    "learning_rate =0.1,\n",
    "n_estimators=700,\n",
    "max_depth=5,\n",
    "min_child_weight=7,\n",
    "subsample=0.8,\n",
    "colsample_bytree=0.8,\n",
    "reg_alpha=0.01,\n",
    "#objective= 'binary:logistic',\n",
    ")"
   ]
  },
  {
   "cell_type": "code",
   "execution_count": 31,
   "metadata": {},
   "outputs": [
    {
     "data": {
      "text/plain": [
       "LGBMClassifier(boosting_type='gbdt', class_weight=None, colsample_bytree=0.8,\n",
       "        importance_type='split', learning_rate=0.1, max_depth=5,\n",
       "        min_child_samples=20, min_child_weight=7, min_split_gain=0.0,\n",
       "        n_estimators=700, n_jobs=-1, num_leaves=31, objective=None,\n",
       "        random_state=None, reg_alpha=0.01, reg_lambda=0.0, silent=True,\n",
       "        subsample=0.8, subsample_for_bin=200000, subsample_freq=0)"
      ]
     },
     "execution_count": 31,
     "metadata": {},
     "output_type": "execute_result"
    }
   ],
   "source": [
    "features_total_names = joblib.load(\"total_features_basebid.pkl\")\n",
    "estimator = lgbm\n",
    "X_train = pd.DataFrame(columns=features_total_names, data=X_resampled)\n",
    "y_train = y_resampled\n",
    "estimator.fit(X_train,y_train)"
   ]
  },
  {
   "cell_type": "code",
   "execution_count": 32,
   "metadata": {},
   "outputs": [],
   "source": [
    "preds = estimator.predict(X_valid)"
   ]
  },
  {
   "cell_type": "code",
   "execution_count": null,
   "metadata": {},
   "outputs": [],
   "source": [
    "pred_proba = estimator.predict_proba(X_valid)\n",
    "w = (40000-1786)/train.shape[0]\n",
    "avgCTR = sum(train.click)/train.shape[0]\n",
    "valid_score = pred_proba[:,1]/(pred_proba[:,1]+(1-pred_proba[:,1])/w)"
   ]
  },
  {
   "cell_type": "code",
   "execution_count": 34,
   "metadata": {},
   "outputs": [],
   "source": [
    "LGBM_bid = []\n",
    "for i in range(validation.shape[0]):\n",
    "    LGBM_bid.append(76.701110 * valid_score[i] / avgCTR)"
   ]
  },
  {
   "cell_type": "markdown",
   "metadata": {},
   "source": [
    "### Competition"
   ]
  },
  {
   "cell_type": "code",
   "execution_count": 36,
   "metadata": {},
   "outputs": [],
   "source": [
    "Multi = pd.DataFrame(columns = ['bidid','LR_bid','XGB_bid','LGBM_bid','payprice'])\n",
    "Multi['bidid'] = validation['bidid']\n",
    "Multi['LR_bid'] = LR_bid\n",
    "Multi['XGB_bid'] = XGB_bid\n",
    "Multi['LGBM_bid'] = LGBM_bid\n",
    "Multi['payprice'] = validation['payprice']"
   ]
  },
  {
   "cell_type": "code",
   "execution_count": 44,
   "metadata": {},
   "outputs": [],
   "source": [
    "Multi.to_csv('multiagent.csv')"
   ]
  },
  {
   "cell_type": "code",
   "execution_count": 45,
   "metadata": {},
   "outputs": [],
   "source": [
    "df = pd.read_csv('multiagent.csv')"
   ]
  },
  {
   "cell_type": "code",
   "execution_count": 50,
   "metadata": {},
   "outputs": [],
   "source": [
    "df = df.drop(columns = ['Unnamed: 0'])"
   ]
  },
  {
   "cell_type": "code",
   "execution_count": 2,
   "metadata": {},
   "outputs": [],
   "source": [
    "df = pd.read_csv(\"multiagent.csv\")"
   ]
  },
  {
   "cell_type": "code",
   "execution_count": 28,
   "metadata": {},
   "outputs": [
    {
     "data": {
      "text/html": [
       "<div>\n",
       "<style scoped>\n",
       "    .dataframe tbody tr th:only-of-type {\n",
       "        vertical-align: middle;\n",
       "    }\n",
       "\n",
       "    .dataframe tbody tr th {\n",
       "        vertical-align: top;\n",
       "    }\n",
       "\n",
       "    .dataframe thead th {\n",
       "        text-align: right;\n",
       "    }\n",
       "</style>\n",
       "<table border=\"1\" class=\"dataframe\">\n",
       "  <thead>\n",
       "    <tr style=\"text-align: right;\">\n",
       "      <th></th>\n",
       "      <th>bidid</th>\n",
       "      <th>LR_bid</th>\n",
       "      <th>XGB_bid</th>\n",
       "      <th>LGBM_bid</th>\n",
       "      <th>payprice</th>\n",
       "    </tr>\n",
       "  </thead>\n",
       "  <tbody>\n",
       "    <tr>\n",
       "      <th>0</th>\n",
       "      <td>bbcb813b6166538503d8b33a5602d7d72f6019dc</td>\n",
       "      <td>63.096608</td>\n",
       "      <td>59.209892</td>\n",
       "      <td>93.300709</td>\n",
       "      <td>23</td>\n",
       "    </tr>\n",
       "    <tr>\n",
       "      <th>1</th>\n",
       "      <td>5a07316c49477cb5d9b4d5aa39c27d6c3be7f92d</td>\n",
       "      <td>23.088078</td>\n",
       "      <td>15.573007</td>\n",
       "      <td>27.716773</td>\n",
       "      <td>75</td>\n",
       "    </tr>\n",
       "    <tr>\n",
       "      <th>2</th>\n",
       "      <td>f6ece71dae81d6b16bfb24ad6dd5611472d4c673</td>\n",
       "      <td>10.399805</td>\n",
       "      <td>1.083546</td>\n",
       "      <td>11.567147</td>\n",
       "      <td>65</td>\n",
       "    </tr>\n",
       "    <tr>\n",
       "      <th>3</th>\n",
       "      <td>b4d5c57c9b38ff5a12954fa01e11931b4e6bfbbb</td>\n",
       "      <td>23.261980</td>\n",
       "      <td>24.841125</td>\n",
       "      <td>27.953670</td>\n",
       "      <td>6</td>\n",
       "    </tr>\n",
       "    <tr>\n",
       "      <th>4</th>\n",
       "      <td>0899bf144249458ea9c89188473694bf44c7ca15</td>\n",
       "      <td>15.947828</td>\n",
       "      <td>28.263443</td>\n",
       "      <td>18.353193</td>\n",
       "      <td>5</td>\n",
       "    </tr>\n",
       "  </tbody>\n",
       "</table>\n",
       "</div>"
      ],
      "text/plain": [
       "                                      bidid     LR_bid    XGB_bid   LGBM_bid  \\\n",
       "0  bbcb813b6166538503d8b33a5602d7d72f6019dc  63.096608  59.209892  93.300709   \n",
       "1  5a07316c49477cb5d9b4d5aa39c27d6c3be7f92d  23.088078  15.573007  27.716773   \n",
       "2  f6ece71dae81d6b16bfb24ad6dd5611472d4c673  10.399805   1.083546  11.567147   \n",
       "3  b4d5c57c9b38ff5a12954fa01e11931b4e6bfbbb  23.261980  24.841125  27.953670   \n",
       "4  0899bf144249458ea9c89188473694bf44c7ca15  15.947828  28.263443  18.353193   \n",
       "\n",
       "   payprice  \n",
       "0        23  \n",
       "1        75  \n",
       "2        65  \n",
       "3         6  \n",
       "4         5  "
      ]
     },
     "execution_count": 28,
     "metadata": {},
     "output_type": "execute_result"
    }
   ],
   "source": [
    "df.head()"
   ]
  },
  {
   "cell_type": "code",
   "execution_count": 3,
   "metadata": {},
   "outputs": [],
   "source": [
    "payprice = []\n",
    "temp = []\n",
    "for i in range(len(df)):\n",
    "    temp.append([df['LR_bid'][i],df['XGB_bid'][i],df['LGBM_bid'][i],df['payprice'][i]])\n",
    "    payprice.append(np.sort(temp[i])[-2])"
   ]
  },
  {
   "cell_type": "code",
   "execution_count": 7,
   "metadata": {},
   "outputs": [],
   "source": [
    "winner = []\n",
    "temp1 = []\n",
    "for i in range(len(df)):\n",
    "    temp1.append([df['LR_bid'][i],df['XGB_bid'][i],df['LGBM_bid'][i],df['payprice'][i]])\n",
    "    winner.append(np.sort(temp[i])[-1])"
   ]
  },
  {
   "cell_type": "code",
   "execution_count": 12,
   "metadata": {},
   "outputs": [],
   "source": [
    "multi = pd.DataFrame(columns=['bid','Imps','spend','clicks'])\n",
    "Imps = 0\n",
    "budget = 6250*1000\n",
    "flag = True\n",
    "spend = 0\n",
    "num_click = 0\n",
    "for i in range(len(df)):\n",
    "    if df['XGB_bid'][i] == winner[i] and flag:\n",
    "        spend = spend + payprice[i]\n",
    "        if spend > 6250000:\n",
    "                spend = spend - payprice[i]\n",
    "                flag = False\n",
    "                break\n",
    "        num_click = num_click + validation.click[i]\n",
    "        Imps = Imps + 1\n",
    "    multi.loc['strategy'] = \"XGB strategy\"\n",
    "    multi.loc['clicks'] = num_click\n",
    "    multi.loc['spend'] = spend/1000\n",
    "    multi.loc['Imps'] = Imps"
   ]
  },
  {
   "cell_type": "code",
   "execution_count": 13,
   "metadata": {},
   "outputs": [
    {
     "data": {
      "text/html": [
       "<div>\n",
       "<style scoped>\n",
       "    .dataframe tbody tr th:only-of-type {\n",
       "        vertical-align: middle;\n",
       "    }\n",
       "\n",
       "    .dataframe tbody tr th {\n",
       "        vertical-align: top;\n",
       "    }\n",
       "\n",
       "    .dataframe thead th {\n",
       "        text-align: right;\n",
       "    }\n",
       "</style>\n",
       "<table border=\"1\" class=\"dataframe\">\n",
       "  <thead>\n",
       "    <tr style=\"text-align: right;\">\n",
       "      <th></th>\n",
       "      <th>bid</th>\n",
       "      <th>Imps</th>\n",
       "      <th>spend</th>\n",
       "      <th>clicks</th>\n",
       "    </tr>\n",
       "  </thead>\n",
       "  <tbody>\n",
       "    <tr>\n",
       "      <th>strategy</th>\n",
       "      <td>XGB strategy</td>\n",
       "      <td>XGB strategy</td>\n",
       "      <td>XGB strategy</td>\n",
       "      <td>XGB strategy</td>\n",
       "    </tr>\n",
       "    <tr>\n",
       "      <th>clicks</th>\n",
       "      <td>39</td>\n",
       "      <td>39</td>\n",
       "      <td>39</td>\n",
       "      <td>39</td>\n",
       "    </tr>\n",
       "    <tr>\n",
       "      <th>spend</th>\n",
       "      <td>3699.39</td>\n",
       "      <td>3699.39</td>\n",
       "      <td>3699.39</td>\n",
       "      <td>3699.39</td>\n",
       "    </tr>\n",
       "    <tr>\n",
       "      <th>Imps</th>\n",
       "      <td>48435</td>\n",
       "      <td>48435</td>\n",
       "      <td>48435</td>\n",
       "      <td>48435</td>\n",
       "    </tr>\n",
       "  </tbody>\n",
       "</table>\n",
       "</div>"
      ],
      "text/plain": [
       "                   bid          Imps         spend        clicks\n",
       "strategy  XGB strategy  XGB strategy  XGB strategy  XGB strategy\n",
       "clicks              39            39            39            39\n",
       "spend          3699.39       3699.39       3699.39       3699.39\n",
       "Imps             48435         48435         48435         48435"
      ]
     },
     "execution_count": 13,
     "metadata": {},
     "output_type": "execute_result"
    }
   ],
   "source": [
    "multi"
   ]
  },
  {
   "cell_type": "code",
   "execution_count": 21,
   "metadata": {},
   "outputs": [],
   "source": [
    "multi1 = pd.DataFrame(columns=['1'])\n",
    "Imps = 0\n",
    "budget = 6250*1000\n",
    "flag = True\n",
    "spend = 0\n",
    "num_click = 0\n",
    "for i in range(len(df)):\n",
    "    if df['LGBM_bid'][i] == winner[i] and flag:\n",
    "        spend = spend + payprice[i]\n",
    "        if spend > 6250000:\n",
    "                spend = spend - payprice[i]\n",
    "                flag = False\n",
    "                break\n",
    "        num_click = num_click + validation.click[i]\n",
    "        Imps = Imps + 1\n",
    "    multi1.loc['strategy'] = \"LGBM strategy\"\n",
    "    multi1.loc['clicks'] = num_click\n",
    "    multi1.loc['spend'] = spend/1000\n",
    "    multi1.loc['Imps'] = Imps"
   ]
  },
  {
   "cell_type": "code",
   "execution_count": 22,
   "metadata": {},
   "outputs": [
    {
     "data": {
      "text/html": [
       "<div>\n",
       "<style scoped>\n",
       "    .dataframe tbody tr th:only-of-type {\n",
       "        vertical-align: middle;\n",
       "    }\n",
       "\n",
       "    .dataframe tbody tr th {\n",
       "        vertical-align: top;\n",
       "    }\n",
       "\n",
       "    .dataframe thead th {\n",
       "        text-align: right;\n",
       "    }\n",
       "</style>\n",
       "<table border=\"1\" class=\"dataframe\">\n",
       "  <thead>\n",
       "    <tr style=\"text-align: right;\">\n",
       "      <th></th>\n",
       "      <th>1</th>\n",
       "    </tr>\n",
       "  </thead>\n",
       "  <tbody>\n",
       "    <tr>\n",
       "      <th>strategy</th>\n",
       "      <td>LGBM strategy</td>\n",
       "    </tr>\n",
       "    <tr>\n",
       "      <th>clicks</th>\n",
       "      <td>41</td>\n",
       "    </tr>\n",
       "    <tr>\n",
       "      <th>spend</th>\n",
       "      <td>6249.83</td>\n",
       "    </tr>\n",
       "    <tr>\n",
       "      <th>Imps</th>\n",
       "      <td>39477</td>\n",
       "    </tr>\n",
       "  </tbody>\n",
       "</table>\n",
       "</div>"
      ],
      "text/plain": [
       "                      1\n",
       "strategy  LGBM strategy\n",
       "clicks               41\n",
       "spend           6249.83\n",
       "Imps              39477"
      ]
     },
     "execution_count": 22,
     "metadata": {},
     "output_type": "execute_result"
    }
   ],
   "source": [
    "multi1"
   ]
  },
  {
   "cell_type": "code",
   "execution_count": 23,
   "metadata": {},
   "outputs": [],
   "source": [
    "multi2 = pd.DataFrame(columns=['1'])\n",
    "Imps = 0\n",
    "budget = 6250*1000\n",
    "flag = True\n",
    "spend = 0\n",
    "num_click = 0\n",
    "for i in range(len(df)):\n",
    "    if df['LR_bid'][i] == winner[i] and flag:\n",
    "        spend = spend + payprice[i]\n",
    "        if spend > 6250000:\n",
    "                spend = spend - payprice[i]\n",
    "                flag = False\n",
    "                break\n",
    "        num_click = num_click + validation.click[i]\n",
    "        Imps = Imps + 1\n",
    "    multi2.loc['strategy'] = \"LR strategy\"\n",
    "    multi2.loc['clicks'] = num_click\n",
    "    multi2.loc['spend'] = spend/1000\n",
    "    multi2.loc['Imps'] = Imps"
   ]
  },
  {
   "cell_type": "code",
   "execution_count": 24,
   "metadata": {},
   "outputs": [
    {
     "data": {
      "text/html": [
       "<div>\n",
       "<style scoped>\n",
       "    .dataframe tbody tr th:only-of-type {\n",
       "        vertical-align: middle;\n",
       "    }\n",
       "\n",
       "    .dataframe tbody tr th {\n",
       "        vertical-align: top;\n",
       "    }\n",
       "\n",
       "    .dataframe thead th {\n",
       "        text-align: right;\n",
       "    }\n",
       "</style>\n",
       "<table border=\"1\" class=\"dataframe\">\n",
       "  <thead>\n",
       "    <tr style=\"text-align: right;\">\n",
       "      <th></th>\n",
       "      <th>1</th>\n",
       "    </tr>\n",
       "  </thead>\n",
       "  <tbody>\n",
       "    <tr>\n",
       "      <th>strategy</th>\n",
       "      <td>LR strategy</td>\n",
       "    </tr>\n",
       "    <tr>\n",
       "      <th>clicks</th>\n",
       "      <td>0</td>\n",
       "    </tr>\n",
       "    <tr>\n",
       "      <th>spend</th>\n",
       "      <td>0</td>\n",
       "    </tr>\n",
       "    <tr>\n",
       "      <th>Imps</th>\n",
       "      <td>0</td>\n",
       "    </tr>\n",
       "  </tbody>\n",
       "</table>\n",
       "</div>"
      ],
      "text/plain": [
       "                    1\n",
       "strategy  LR strategy\n",
       "clicks              0\n",
       "spend               0\n",
       "Imps                0"
      ]
     },
     "execution_count": 24,
     "metadata": {},
     "output_type": "execute_result"
    }
   ],
   "source": [
    "multi2"
   ]
  },
  {
   "cell_type": "code",
   "execution_count": 26,
   "metadata": {},
   "outputs": [],
   "source": [
    "multi3 = pd.DataFrame(columns=['1'])\n",
    "Imps = 0\n",
    "budget = 6250*1000\n",
    "flag = True\n",
    "spend = 0\n",
    "num_click = 0\n",
    "for i in range(len(df)):\n",
    "    if df['payprice'][i] == winner[i] and flag:\n",
    "        spend = spend + payprice[i]\n",
    "        if spend > 6250000:\n",
    "                spend = spend - payprice[i]\n",
    "                flag = False\n",
    "                break\n",
    "        num_click = num_click + validation.click[i]\n",
    "        Imps = Imps + 1\n",
    "    multi3.loc['strategy'] = \"original\"\n",
    "    multi3.loc['clicks'] = num_click\n",
    "    multi3.loc['spend'] = spend/1000\n",
    "    multi3.loc['Imps'] = Imps"
   ]
  },
  {
   "cell_type": "code",
   "execution_count": 27,
   "metadata": {},
   "outputs": [
    {
     "data": {
      "text/html": [
       "<div>\n",
       "<style scoped>\n",
       "    .dataframe tbody tr th:only-of-type {\n",
       "        vertical-align: middle;\n",
       "    }\n",
       "\n",
       "    .dataframe tbody tr th {\n",
       "        vertical-align: top;\n",
       "    }\n",
       "\n",
       "    .dataframe thead th {\n",
       "        text-align: right;\n",
       "    }\n",
       "</style>\n",
       "<table border=\"1\" class=\"dataframe\">\n",
       "  <thead>\n",
       "    <tr style=\"text-align: right;\">\n",
       "      <th></th>\n",
       "      <th>1</th>\n",
       "    </tr>\n",
       "  </thead>\n",
       "  <tbody>\n",
       "    <tr>\n",
       "      <th>strategy</th>\n",
       "      <td>original</td>\n",
       "    </tr>\n",
       "    <tr>\n",
       "      <th>clicks</th>\n",
       "      <td>25</td>\n",
       "    </tr>\n",
       "    <tr>\n",
       "      <th>spend</th>\n",
       "      <td>5755.95</td>\n",
       "    </tr>\n",
       "    <tr>\n",
       "      <th>Imps</th>\n",
       "      <td>126932</td>\n",
       "    </tr>\n",
       "  </tbody>\n",
       "</table>\n",
       "</div>"
      ],
      "text/plain": [
       "                 1\n",
       "strategy  original\n",
       "clicks          25\n",
       "spend      5755.95\n",
       "Imps        126932"
      ]
     },
     "execution_count": 27,
     "metadata": {},
     "output_type": "execute_result"
    }
   ],
   "source": [
    "multi3"
   ]
  },
  {
   "cell_type": "code",
   "execution_count": null,
   "metadata": {},
   "outputs": [],
   "source": []
  }
 ],
 "metadata": {
  "kernelspec": {
   "display_name": "Python 3",
   "language": "python",
   "name": "python3"
  },
  "language_info": {
   "codemirror_mode": {
    "name": "ipython",
    "version": 3
   },
   "file_extension": ".py",
   "mimetype": "text/x-python",
   "name": "python",
   "nbconvert_exporter": "python",
   "pygments_lexer": "ipython3",
   "version": "3.6.4"
  }
 },
 "nbformat": 4,
 "nbformat_minor": 2
}
