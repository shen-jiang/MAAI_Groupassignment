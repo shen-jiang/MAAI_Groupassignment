{
 "cells": [
  {
   "cell_type": "markdown",
   "metadata": {},
   "source": [
    "# Random bidding strategy"
   ]
  },
  {
   "cell_type": "code",
   "execution_count": 1,
   "metadata": {
    "collapsed": true
   },
   "outputs": [],
   "source": [
    "import pandas as pd\n",
    "import numpy as np\n",
    "import random"
   ]
  },
  {
   "cell_type": "code",
   "execution_count": 2,
   "metadata": {
    "collapsed": true
   },
   "outputs": [],
   "source": [
    "validationset=pd.read_csv('dataset/validation.csv')"
   ]
  },
  {
   "cell_type": "code",
   "execution_count": 3,
   "metadata": {},
   "outputs": [
    {
     "data": {
      "text/plain": [
       "300"
      ]
     },
     "execution_count": 3,
     "metadata": {},
     "output_type": "execute_result"
    }
   ],
   "source": [
    "validationset.bidprice.max()"
   ]
  },
  {
   "cell_type": "code",
   "execution_count": 4,
   "metadata": {},
   "outputs": [
    {
     "data": {
      "text/plain": [
       "227"
      ]
     },
     "execution_count": 4,
     "metadata": {},
     "output_type": "execute_result"
    }
   ],
   "source": [
    "validationset.bidprice.min()"
   ]
  },
  {
   "cell_type": "code",
   "execution_count": 5,
   "metadata": {
    "collapsed": true
   },
   "outputs": [],
   "source": [
    "#the random bidding strategy\n",
    "def randomModel(bid):\n",
    "    bidimpression = 0\n",
    "    actualclick = 0\n",
    "    paid = []\n",
    "    cost = 0\n",
    "    budget = 6250*1000\n",
    "    \n",
    "    for click,payprice in validationset[['click','payprice']].values:  \n",
    "        \n",
    "        upperbid = random.randrange(bid)\n",
    "        \n",
    "        if upperbid > payprice:\n",
    "            bidimpression += 1\n",
    "            actualclick += click\n",
    "            cost += payprice  \n",
    "        if cost >= budget:\n",
    "                break\n",
    "                \n",
    "    return bidimpression, actualclick, cost"
   ]
  },
  {
   "cell_type": "code",
   "execution_count": 6,
   "metadata": {
    "collapsed": true
   },
   "outputs": [],
   "source": [
    "randombid = random.randint(227,300)"
   ]
  },
  {
   "cell_type": "code",
   "execution_count": 7,
   "metadata": {},
   "outputs": [
    {
     "name": "stdout",
     "output_type": "stream",
     "text": [
      "Number of bids: 109395\n",
      "Number of clicks: 79\n",
      "Total cost: 6250024 \n"
     ]
    }
   ],
   "source": [
    "numbids,numclicks,paidlist=randomModel(randombid)\n",
    "\n",
    "print('Number of bids: %s' % numbids)\n",
    "print('Number of clicks: %s' % numclicks)\n",
    "print('Total cost: %s ' % paidlist)\n",
    "\n"
   ]
  },
  {
   "cell_type": "code",
   "execution_count": 8,
   "metadata": {},
   "outputs": [],
   "source": [
    "#CTR\n",
    "def CTR(numClicks,numImps):\n",
    "    ctr=numClicks/numImps\n",
    "    return ctr\n",
    "\n",
    "\n",
    "#CPM\n",
    "def CPM(cost, numImps):\n",
    "    cpm = (cost/numImps)\n",
    "    return cpm\n",
    "\n",
    "\n",
    "#CPC\n",
    "def CPC(cost, numclicks):\n",
    "    cpc = cost/numclicks/1000\n",
    "    return cpc"
   ]
  },
  {
   "cell_type": "code",
   "execution_count": 9,
   "metadata": {},
   "outputs": [],
   "source": [
    "ctr = CTR(numclicks,numbids)\n",
    "cpm = CPM(paidlist, numbids)\n",
    "cpc = CPC(paidlist, numclicks)"
   ]
  },
  {
   "cell_type": "code",
   "execution_count": 10,
   "metadata": {
    "scrolled": true
   },
   "outputs": [
    {
     "name": "stdout",
     "output_type": "stream",
     "text": [
      "CTR: 0.00072215366333\n",
      "CPM: 57.132629462\n",
      "CPC: 79.1142278481 \n"
     ]
    }
   ],
   "source": [
    "print('CTR: %s' % ctr)\n",
    "print('CPM: %s' % cpm)\n",
    "print('CPC: %s ' % cpc)"
   ]
  },
  {
   "cell_type": "code",
   "execution_count": null,
   "metadata": {
    "collapsed": true
   },
   "outputs": [],
   "source": []
  }
 ],
 "metadata": {
  "kernelspec": {
   "display_name": "Python 3",
   "language": "python",
   "name": "python3"
  },
  "language_info": {
   "codemirror_mode": {
    "name": "ipython",
    "version": 3
   },
   "file_extension": ".py",
   "mimetype": "text/x-python",
   "name": "python",
   "nbconvert_exporter": "python",
   "pygments_lexer": "ipython3",
   "version": "3.6.4"
  }
 },
 "nbformat": 4,
 "nbformat_minor": 2
}
