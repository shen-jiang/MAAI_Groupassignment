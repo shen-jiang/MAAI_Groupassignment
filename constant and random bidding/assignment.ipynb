{
 "cells": [
  {
   "cell_type": "code",
   "execution_count": 4,
   "metadata": {},
   "outputs": [],
   "source": [
    "import pandas as pd\n",
    "import numpy as np\n",
    "import seaborn as sns\n",
    "import matplotlib.pyplot as plt\n",
    "import collections"
   ]
  },
  {
   "cell_type": "code",
   "execution_count": 5,
   "metadata": {},
   "outputs": [],
   "source": [
    "df = pd.read_csv('train.csv')\n",
    "df1 = pd.read_csv('test.csv')\n",
    "df2 = pd.read_csv('validation.csv')"
   ]
  },
  {
   "cell_type": "code",
   "execution_count": 3,
   "metadata": {},
   "outputs": [],
   "source": [
    "df = df.drop(['bidid','userid','slotid','IP','creative','keypage', 'domain','url','urlid'], axis = 1)"
   ]
  },
  {
   "cell_type": "markdown",
   "metadata": {},
   "source": [
    "### 每个advertiser 每天的平均点击率"
   ]
  },
  {
   "cell_type": "code",
   "execution_count": 6,
   "metadata": {},
   "outputs": [
    {
     "data": {
      "text/html": [
       "<div>\n",
       "<style scoped>\n",
       "    .dataframe tbody tr th:only-of-type {\n",
       "        vertical-align: middle;\n",
       "    }\n",
       "\n",
       "    .dataframe tbody tr th {\n",
       "        vertical-align: top;\n",
       "    }\n",
       "\n",
       "    .dataframe thead th {\n",
       "        text-align: right;\n",
       "    }\n",
       "</style>\n",
       "<table border=\"1\" class=\"dataframe\">\n",
       "  <thead>\n",
       "    <tr style=\"text-align: right;\">\n",
       "      <th>weekday</th>\n",
       "      <th>0</th>\n",
       "      <th>1</th>\n",
       "      <th>2</th>\n",
       "      <th>3</th>\n",
       "      <th>4</th>\n",
       "      <th>5</th>\n",
       "      <th>6</th>\n",
       "    </tr>\n",
       "    <tr>\n",
       "      <th>advertiser</th>\n",
       "      <th></th>\n",
       "      <th></th>\n",
       "      <th></th>\n",
       "      <th></th>\n",
       "      <th></th>\n",
       "      <th></th>\n",
       "      <th></th>\n",
       "    </tr>\n",
       "  </thead>\n",
       "  <tbody>\n",
       "    <tr>\n",
       "      <th>1458</th>\n",
       "      <td>0.000681</td>\n",
       "      <td>0.000951</td>\n",
       "      <td>0.000706</td>\n",
       "      <td>0.000755</td>\n",
       "      <td>0.000887</td>\n",
       "      <td>0.000866</td>\n",
       "      <td>0.000645</td>\n",
       "    </tr>\n",
       "    <tr>\n",
       "      <th>2259</th>\n",
       "      <td>0.000365</td>\n",
       "      <td>0.000333</td>\n",
       "      <td>0.000000</td>\n",
       "      <td>0.000000</td>\n",
       "      <td>0.000000</td>\n",
       "      <td>0.000273</td>\n",
       "      <td>0.000321</td>\n",
       "    </tr>\n",
       "    <tr>\n",
       "      <th>2261</th>\n",
       "      <td>0.000000</td>\n",
       "      <td>0.000000</td>\n",
       "      <td>0.000000</td>\n",
       "      <td>0.000322</td>\n",
       "      <td>0.000297</td>\n",
       "      <td>0.000354</td>\n",
       "      <td>0.000340</td>\n",
       "    </tr>\n",
       "    <tr>\n",
       "      <th>2821</th>\n",
       "      <td>0.000700</td>\n",
       "      <td>0.000559</td>\n",
       "      <td>0.000511</td>\n",
       "      <td>0.000000</td>\n",
       "      <td>0.000000</td>\n",
       "      <td>0.000000</td>\n",
       "      <td>0.000000</td>\n",
       "    </tr>\n",
       "    <tr>\n",
       "      <th>2997</th>\n",
       "      <td>0.000000</td>\n",
       "      <td>0.000000</td>\n",
       "      <td>0.010476</td>\n",
       "      <td>0.003179</td>\n",
       "      <td>0.002769</td>\n",
       "      <td>0.003204</td>\n",
       "      <td>0.000000</td>\n",
       "    </tr>\n",
       "    <tr>\n",
       "      <th>3358</th>\n",
       "      <td>0.000746</td>\n",
       "      <td>0.000599</td>\n",
       "      <td>0.000266</td>\n",
       "      <td>0.001027</td>\n",
       "      <td>0.000758</td>\n",
       "      <td>0.000750</td>\n",
       "      <td>0.000694</td>\n",
       "    </tr>\n",
       "    <tr>\n",
       "      <th>3386</th>\n",
       "      <td>0.000748</td>\n",
       "      <td>0.000719</td>\n",
       "      <td>0.000744</td>\n",
       "      <td>0.000683</td>\n",
       "      <td>0.000729</td>\n",
       "      <td>0.000830</td>\n",
       "      <td>0.000487</td>\n",
       "    </tr>\n",
       "    <tr>\n",
       "      <th>3427</th>\n",
       "      <td>0.000578</td>\n",
       "      <td>0.000609</td>\n",
       "      <td>0.000725</td>\n",
       "      <td>0.000736</td>\n",
       "      <td>0.000603</td>\n",
       "      <td>0.000653</td>\n",
       "      <td>0.000803</td>\n",
       "    </tr>\n",
       "    <tr>\n",
       "      <th>3476</th>\n",
       "      <td>0.000548</td>\n",
       "      <td>0.000759</td>\n",
       "      <td>0.000723</td>\n",
       "      <td>0.000477</td>\n",
       "      <td>0.000753</td>\n",
       "      <td>0.000271</td>\n",
       "      <td>0.000481</td>\n",
       "    </tr>\n",
       "  </tbody>\n",
       "</table>\n",
       "</div>"
      ],
      "text/plain": [
       "weekday            0         1         2         3         4         5  \\\n",
       "advertiser                                                               \n",
       "1458        0.000681  0.000951  0.000706  0.000755  0.000887  0.000866   \n",
       "2259        0.000365  0.000333  0.000000  0.000000  0.000000  0.000273   \n",
       "2261        0.000000  0.000000  0.000000  0.000322  0.000297  0.000354   \n",
       "2821        0.000700  0.000559  0.000511  0.000000  0.000000  0.000000   \n",
       "2997        0.000000  0.000000  0.010476  0.003179  0.002769  0.003204   \n",
       "3358        0.000746  0.000599  0.000266  0.001027  0.000758  0.000750   \n",
       "3386        0.000748  0.000719  0.000744  0.000683  0.000729  0.000830   \n",
       "3427        0.000578  0.000609  0.000725  0.000736  0.000603  0.000653   \n",
       "3476        0.000548  0.000759  0.000723  0.000477  0.000753  0.000271   \n",
       "\n",
       "weekday            6  \n",
       "advertiser            \n",
       "1458        0.000645  \n",
       "2259        0.000321  \n",
       "2261        0.000340  \n",
       "2821        0.000000  \n",
       "2997        0.000000  \n",
       "3358        0.000694  \n",
       "3386        0.000487  \n",
       "3427        0.000803  \n",
       "3476        0.000481  "
      ]
     },
     "execution_count": 6,
     "metadata": {},
     "output_type": "execute_result"
    }
   ],
   "source": [
    "df_weekday = df['click'].groupby([df['advertiser'],df['weekday']])\n",
    "a = df_weekday.mean().unstack()\n",
    "a = a.fillna(0)\n",
    "a"
   ]
  },
  {
   "cell_type": "code",
   "execution_count": 7,
   "metadata": {},
   "outputs": [],
   "source": [
    "b = a.loc[[1458]].T\n",
    "c = a.loc[[2259]].T\n",
    "d = a.loc[[2261]].T\n",
    "e = a.loc[[2821]].T\n",
    "f = a.loc[[2997]].T\n",
    "g = a.loc[[3358]].T\n",
    "h = a.loc[[3386]].T\n",
    "i = a.loc[[3427]].T\n",
    "j = a.loc[[3476]].T"
   ]
  },
  {
   "cell_type": "code",
   "execution_count": 8,
   "metadata": {},
   "outputs": [
    {
     "data": {
      "text/plain": [
       "<matplotlib.legend.Legend at 0x1aa20b93f28>"
      ]
     },
     "execution_count": 8,
     "metadata": {},
     "output_type": "execute_result"
    },
    {
     "data": {
      "image/png": "[encoded data removed]",
      "text/plain": [
       "<Figure size 432x288 with 1 Axes>"
      ]
     },
     "metadata": {},
     "output_type": "display_data"
    }
   ],
   "source": [
    "index = np.arange(len(b))\n",
    "\n",
    "plt.plot(index, b[1458], marker='', linewidth=1)\n",
    "plt.plot(index, c[2259], marker='', linewidth=1)\n",
    "plt.plot(index, d[2261], marker='', linewidth=1)\n",
    "plt.plot(index, e[2821], marker='', linewidth=1)\n",
    "plt.plot(index, f[2997], marker='', linewidth=1)\n",
    "plt.plot(index, g[3358], marker='', linewidth=1)\n",
    "plt.plot(index, h[3386], marker='', linewidth=1)\n",
    "plt.plot(index, i[3427], marker='', linewidth=1)\n",
    "plt.plot(index, j[3476], marker='', linewidth=1)\n",
    "plt.xlabel('Weekday', fontsize=10)\n",
    "plt.ylabel('Avg. CTR', fontsize=10)\n",
    "plt.title('Avg. CTR over the week')\n",
    "plt.legend()"
   ]
  },
  {
   "cell_type": "code",
   "execution_count": 11,
   "metadata": {},
   "outputs": [
    {
     "data": {
      "text/plain": [
       "1458    492353\n",
       "3386    455041\n",
       "3427    402806\n",
       "3476    310835\n",
       "3358    264956\n",
       "2821    211366\n",
       "2259    133673\n",
       "2261    110122\n",
       "2997     49829\n",
       "Name: advertiser, dtype: int64"
      ]
     },
     "execution_count": 11,
     "metadata": {},
     "output_type": "execute_result"
    }
   ],
   "source": [
    "df['advertiser'].value_counts()"
   ]
  },
  {
   "cell_type": "code",
   "execution_count": 24,
   "metadata": {},
   "outputs": [
    {
     "data": {
      "text/plain": [
       "300    947394\n",
       "294    322009\n",
       "238    313445\n",
       "227    235767\n",
       "241    204893\n",
       "277    182981\n",
       "254    118845\n",
       "249    105647\n",
       "Name: bidprice, dtype: int64"
      ]
     },
     "execution_count": 24,
     "metadata": {},
     "output_type": "execute_result"
    }
   ],
   "source": [
    "df['bidprice'].value_counts()"
   ]
  },
  {
   "cell_type": "code",
   "execution_count": 73,
   "metadata": {},
   "outputs": [],
   "source": [
    "df1 = df['click']"
   ]
  },
  {
   "cell_type": "code",
   "execution_count": 74,
   "metadata": {},
   "outputs": [],
   "source": [
    "df2 = df['bidprice']"
   ]
  },
  {
   "cell_type": "code",
   "execution_count": 81,
   "metadata": {},
   "outputs": [],
   "source": [
    "df3 = pd.concat([df1,df2],axis = 1)"
   ]
  },
  {
   "cell_type": "code",
   "execution_count": 98,
   "metadata": {},
   "outputs": [],
   "source": [
    "click300 = df3.loc[df['click'] == 1].loc[df3['bidprice'] == 300]\n",
    "click297 = df3.loc[df['click'] == 1].loc[df3['bidprice'] == 297]\n",
    "click238 = df3.loc[df['click'] == 1].loc[df3['bidprice'] == 238]\n",
    "click227 = df3.loc[df['click'] == 1].loc[df3['bidprice'] == 227]\n",
    "click241 = df3.loc[df['click'] == 1].loc[df3['bidprice'] == 241]\n",
    "click277 = df3.loc[df['click'] == 1].loc[df3['bidprice'] == 277]\n",
    "click254 = df3.loc[df['click'] == 1].loc[df3['bidprice'] == 254]\n",
    "click249 = df3.loc[df['click'] == 1].loc[df3['bidprice'] == 249]"
   ]
  },
  {
   "cell_type": "markdown",
   "metadata": {},
   "source": [
    "### the amount of clicks each bid price have"
   ]
  },
  {
   "cell_type": "code",
   "execution_count": 99,
   "metadata": {},
   "outputs": [
    {
     "name": "stdout",
     "output_type": "stream",
     "text": [
      "705\n",
      "0\n",
      "161\n",
      "219\n",
      "144\n",
      "265\n",
      "103\n",
      "34\n"
     ]
    }
   ],
   "source": [
    "print(len(click300))\n",
    "print(len(click297))\n",
    "print(len(click238))\n",
    "print(len(click227))\n",
    "print(len(click241))\n",
    "print(len(click277))\n",
    "print(len(click254))\n",
    "print(len(click249))"
   ]
  },
  {
   "cell_type": "code",
   "execution_count": 100,
   "metadata": {},
   "outputs": [],
   "source": [
    "df4 = df['payprice']\n",
    "df5 = pd.concat([df1,df4],axis = 1)"
   ]
  },
  {
   "cell_type": "code",
   "execution_count": 103,
   "metadata": {},
   "outputs": [
    {
     "data": {
      "text/plain": [
       "70     141942\n",
       "50     109782\n",
       "20     108131\n",
       "77      77936\n",
       "80      69089\n",
       "55      62668\n",
       "5       45131\n",
       "31      43491\n",
       "88      41174\n",
       "52      40326\n",
       "73      40005\n",
       "22      36707\n",
       "84      30421\n",
       "21      30269\n",
       "30      26681\n",
       "76      22810\n",
       "160     21419\n",
       "10      21235\n",
       "40      19969\n",
       "51      19556\n",
       "89      19349\n",
       "17      19275\n",
       "101     18065\n",
       "18      17904\n",
       "60      17716\n",
       "16      17635\n",
       "33      17379\n",
       "11      16934\n",
       "59      16086\n",
       "42      15984\n",
       "        ...  \n",
       "257       643\n",
       "272       643\n",
       "239       624\n",
       "267       616\n",
       "254       616\n",
       "264       615\n",
       "245       615\n",
       "292       608\n",
       "276       600\n",
       "249       598\n",
       "288       574\n",
       "269       573\n",
       "277       572\n",
       "263       561\n",
       "291       546\n",
       "284       530\n",
       "282       523\n",
       "0         487\n",
       "287       479\n",
       "273       472\n",
       "295       467\n",
       "278       459\n",
       "290       457\n",
       "285       445\n",
       "294       424\n",
       "279       404\n",
       "299       290\n",
       "298       276\n",
       "296       239\n",
       "297       171\n",
       "Name: payprice, Length: 301, dtype: int64"
      ]
     },
     "execution_count": 103,
     "metadata": {},
     "output_type": "execute_result"
    }
   ],
   "source": [
    "df5['payprice'].value_counts()"
   ]
  },
  {
   "cell_type": "code",
   "execution_count": 104,
   "metadata": {},
   "outputs": [],
   "source": [
    "pay_click = df5.loc[df['click'] == 1]"
   ]
  },
  {
   "cell_type": "code",
   "execution_count": 127,
   "metadata": {},
   "outputs": [],
   "source": [
    "pay_click['payprice'].value_counts()\n",
    "sort = np.sort(pay_click[\"payprice\"])\n",
    "sort1 = pd.Series(sort[:700])"
   ]
  },
  {
   "cell_type": "markdown",
   "metadata": {},
   "source": [
    "### Basic statistics"
   ]
  },
  {
   "cell_type": "code",
   "execution_count": 10,
   "metadata": {},
   "outputs": [
    {
     "data": {
      "text/html": [
       "<div>\n",
       "<style scoped>\n",
       "    .dataframe tbody tr th:only-of-type {\n",
       "        vertical-align: middle;\n",
       "    }\n",
       "\n",
       "    .dataframe tbody tr th {\n",
       "        vertical-align: top;\n",
       "    }\n",
       "\n",
       "    .dataframe thead th {\n",
       "        text-align: right;\n",
       "    }\n",
       "</style>\n",
       "<table border=\"1\" class=\"dataframe\">\n",
       "  <thead>\n",
       "    <tr style=\"text-align: right;\">\n",
       "      <th></th>\n",
       "      <th>CPM</th>\n",
       "      <th>CTR</th>\n",
       "      <th>Clicks</th>\n",
       "      <th>Cost</th>\n",
       "      <th>Imps</th>\n",
       "      <th>eCPC</th>\n",
       "    </tr>\n",
       "    <tr>\n",
       "      <th>advertiser</th>\n",
       "      <th></th>\n",
       "      <th></th>\n",
       "      <th></th>\n",
       "      <th></th>\n",
       "      <th></th>\n",
       "      <th></th>\n",
       "    </tr>\n",
       "  </thead>\n",
       "  <tbody>\n",
       "    <tr>\n",
       "      <th>1458</th>\n",
       "      <td>68.992646</td>\n",
       "      <td>0.000782</td>\n",
       "      <td>385</td>\n",
       "      <td>33968.736</td>\n",
       "      <td>492353</td>\n",
       "      <td>88.230483</td>\n",
       "    </tr>\n",
       "    <tr>\n",
       "      <th>2259</th>\n",
       "      <td>92.974931</td>\n",
       "      <td>0.000322</td>\n",
       "      <td>43</td>\n",
       "      <td>12428.238</td>\n",
       "      <td>133673</td>\n",
       "      <td>289.028791</td>\n",
       "    </tr>\n",
       "    <tr>\n",
       "      <th>2261</th>\n",
       "      <td>89.662184</td>\n",
       "      <td>0.000327</td>\n",
       "      <td>36</td>\n",
       "      <td>9873.779</td>\n",
       "      <td>110122</td>\n",
       "      <td>274.271639</td>\n",
       "    </tr>\n",
       "    <tr>\n",
       "      <th>2821</th>\n",
       "      <td>89.077922</td>\n",
       "      <td>0.000620</td>\n",
       "      <td>131</td>\n",
       "      <td>18828.044</td>\n",
       "      <td>211366</td>\n",
       "      <td>143.725527</td>\n",
       "    </tr>\n",
       "    <tr>\n",
       "      <th>2997</th>\n",
       "      <td>62.800116</td>\n",
       "      <td>0.004355</td>\n",
       "      <td>217</td>\n",
       "      <td>3129.267</td>\n",
       "      <td>49829</td>\n",
       "      <td>14.420585</td>\n",
       "    </tr>\n",
       "    <tr>\n",
       "      <th>3358</th>\n",
       "      <td>84.720599</td>\n",
       "      <td>0.000762</td>\n",
       "      <td>202</td>\n",
       "      <td>22447.231</td>\n",
       "      <td>264956</td>\n",
       "      <td>111.124906</td>\n",
       "    </tr>\n",
       "    <tr>\n",
       "      <th>3386</th>\n",
       "      <td>76.766320</td>\n",
       "      <td>0.000703</td>\n",
       "      <td>320</td>\n",
       "      <td>34931.823</td>\n",
       "      <td>455041</td>\n",
       "      <td>109.161947</td>\n",
       "    </tr>\n",
       "    <tr>\n",
       "      <th>3427</th>\n",
       "      <td>75.616329</td>\n",
       "      <td>0.000675</td>\n",
       "      <td>272</td>\n",
       "      <td>30458.711</td>\n",
       "      <td>402806</td>\n",
       "      <td>111.980555</td>\n",
       "    </tr>\n",
       "    <tr>\n",
       "      <th>3476</th>\n",
       "      <td>76.950083</td>\n",
       "      <td>0.000602</td>\n",
       "      <td>187</td>\n",
       "      <td>23918.779</td>\n",
       "      <td>310835</td>\n",
       "      <td>127.907909</td>\n",
       "    </tr>\n",
       "  </tbody>\n",
       "</table>\n",
       "</div>"
      ],
      "text/plain": [
       "                  CPM       CTR  Clicks       Cost    Imps        eCPC\n",
       "advertiser                                                            \n",
       "1458        68.992646  0.000782     385  33968.736  492353   88.230483\n",
       "2259        92.974931  0.000322      43  12428.238  133673  289.028791\n",
       "2261        89.662184  0.000327      36   9873.779  110122  274.271639\n",
       "2821        89.077922  0.000620     131  18828.044  211366  143.725527\n",
       "2997        62.800116  0.004355     217   3129.267   49829   14.420585\n",
       "3358        84.720599  0.000762     202  22447.231  264956  111.124906\n",
       "3386        76.766320  0.000703     320  34931.823  455041  109.161947\n",
       "3427        75.616329  0.000675     272  30458.711  402806  111.980555\n",
       "3476        76.950083  0.000602     187  23918.779  310835  127.907909"
      ]
     },
     "execution_count": 10,
     "metadata": {},
     "output_type": "execute_result"
    }
   ],
   "source": [
    "Adv_group=df.groupby(df['advertiser'])\n",
    "Clicks = Adv_group['click'].sum()\n",
    "#Clicks\n",
    "Imps = Adv_group['click'].count()\n",
    "#Imps\n",
    "Cost =  Adv_group['payprice'].sum()/1000\n",
    "#Cost: the unit is fen/one impression, bidprice or payprice is fen oer 1000 impressions\n",
    "CTR = Clicks/Imps\n",
    "#CTR\n",
    "CPM = Cost/Imps\n",
    "CPM = CPM*1000\n",
    "#CPM: cost per mille people, so *1000\n",
    "eCPC = Cost/Clicks\n",
    "#eCPC\n",
    "Train_summ = pd.DataFrame({'Imps':Imps, 'Clicks':Clicks, 'Cost':Cost, 'CTR':CTR, 'CPM':CPM, 'eCPC':eCPC})\n",
    "Train_summ"
   ]
  },
  {
   "cell_type": "code",
   "execution_count": 17,
   "metadata": {},
   "outputs": [
    {
     "name": "stdout",
     "output_type": "stream",
     "text": [
      "79.72901437708572\n",
      "0.0010164126850118298\n",
      "1793\n",
      "21109.40088888889\n",
      "2430981\n",
      "141.09470463644686\n"
     ]
    }
   ],
   "source": [
    "print(np.mean(Train_summ.CPM))\n",
    "print(np.mean(Train_summ.CTR))\n",
    "print(np.sum(Train_summ.Clicks))\n",
    "print(np.mean(Train_summ.Cost))\n",
    "print(np.sum(Train_summ.Imps))\n",
    "print(np.mean(Train_summ.eCPC))"
   ]
  },
  {
   "cell_type": "code",
   "execution_count": 8,
   "metadata": {},
   "outputs": [
    {
     "data": {
      "text/html": [
       "<div>\n",
       "<style scoped>\n",
       "    .dataframe tbody tr th:only-of-type {\n",
       "        vertical-align: middle;\n",
       "    }\n",
       "\n",
       "    .dataframe tbody tr th {\n",
       "        vertical-align: top;\n",
       "    }\n",
       "\n",
       "    .dataframe thead th {\n",
       "        text-align: right;\n",
       "    }\n",
       "</style>\n",
       "<table border=\"1\" class=\"dataframe\">\n",
       "  <thead>\n",
       "    <tr style=\"text-align: right;\">\n",
       "      <th></th>\n",
       "      <th>CPM</th>\n",
       "      <th>CTR</th>\n",
       "      <th>Clicks</th>\n",
       "      <th>Cost</th>\n",
       "      <th>Imps</th>\n",
       "      <th>eCPC</th>\n",
       "    </tr>\n",
       "    <tr>\n",
       "      <th>advertiser</th>\n",
       "      <th></th>\n",
       "      <th></th>\n",
       "      <th></th>\n",
       "      <th></th>\n",
       "      <th></th>\n",
       "      <th></th>\n",
       "    </tr>\n",
       "  </thead>\n",
       "  <tbody>\n",
       "    <tr>\n",
       "      <th>1458</th>\n",
       "      <td>78.440328</td>\n",
       "      <td>0.000653</td>\n",
       "      <td>40</td>\n",
       "      <td>4808.549</td>\n",
       "      <td>61302</td>\n",
       "      <td>120.213725</td>\n",
       "    </tr>\n",
       "    <tr>\n",
       "      <th>2259</th>\n",
       "      <td>78.025149</td>\n",
       "      <td>0.000660</td>\n",
       "      <td>11</td>\n",
       "      <td>1299.977</td>\n",
       "      <td>16661</td>\n",
       "      <td>118.179727</td>\n",
       "    </tr>\n",
       "    <tr>\n",
       "      <th>2261</th>\n",
       "      <td>77.741875</td>\n",
       "      <td>0.000717</td>\n",
       "      <td>10</td>\n",
       "      <td>1083.644</td>\n",
       "      <td>13939</td>\n",
       "      <td>108.364400</td>\n",
       "    </tr>\n",
       "    <tr>\n",
       "      <th>2821</th>\n",
       "      <td>78.893166</td>\n",
       "      <td>0.000794</td>\n",
       "      <td>21</td>\n",
       "      <td>2086.172</td>\n",
       "      <td>26443</td>\n",
       "      <td>99.341524</td>\n",
       "    </tr>\n",
       "    <tr>\n",
       "      <th>2997</th>\n",
       "      <td>77.818483</td>\n",
       "      <td>0.000474</td>\n",
       "      <td>3</td>\n",
       "      <td>492.591</td>\n",
       "      <td>6330</td>\n",
       "      <td>164.197000</td>\n",
       "    </tr>\n",
       "    <tr>\n",
       "      <th>3358</th>\n",
       "      <td>78.712605</td>\n",
       "      <td>0.000750</td>\n",
       "      <td>25</td>\n",
       "      <td>2623.255</td>\n",
       "      <td>33327</td>\n",
       "      <td>104.930200</td>\n",
       "    </tr>\n",
       "    <tr>\n",
       "      <th>3386</th>\n",
       "      <td>77.823944</td>\n",
       "      <td>0.000634</td>\n",
       "      <td>36</td>\n",
       "      <td>4420.400</td>\n",
       "      <td>56800</td>\n",
       "      <td>122.788889</td>\n",
       "    </tr>\n",
       "    <tr>\n",
       "      <th>3427</th>\n",
       "      <td>78.157414</td>\n",
       "      <td>0.000713</td>\n",
       "      <td>36</td>\n",
       "      <td>3947.731</td>\n",
       "      <td>50510</td>\n",
       "      <td>109.659194</td>\n",
       "    </tr>\n",
       "    <tr>\n",
       "      <th>3476</th>\n",
       "      <td>78.081242</td>\n",
       "      <td>0.000518</td>\n",
       "      <td>20</td>\n",
       "      <td>3014.951</td>\n",
       "      <td>38613</td>\n",
       "      <td>150.747550</td>\n",
       "    </tr>\n",
       "  </tbody>\n",
       "</table>\n",
       "</div>"
      ],
      "text/plain": [
       "                  CPM       CTR  Clicks      Cost   Imps        eCPC\n",
       "advertiser                                                          \n",
       "1458        78.440328  0.000653      40  4808.549  61302  120.213725\n",
       "2259        78.025149  0.000660      11  1299.977  16661  118.179727\n",
       "2261        77.741875  0.000717      10  1083.644  13939  108.364400\n",
       "2821        78.893166  0.000794      21  2086.172  26443   99.341524\n",
       "2997        77.818483  0.000474       3   492.591   6330  164.197000\n",
       "3358        78.712605  0.000750      25  2623.255  33327  104.930200\n",
       "3386        77.823944  0.000634      36  4420.400  56800  122.788889\n",
       "3427        78.157414  0.000713      36  3947.731  50510  109.659194\n",
       "3476        78.081242  0.000518      20  3014.951  38613  150.747550"
      ]
     },
     "execution_count": 8,
     "metadata": {},
     "output_type": "execute_result"
    }
   ],
   "source": [
    "Adv_group=df2.groupby(df['advertiser'])\n",
    "Clicks = Adv_group['click'].sum()\n",
    "#Clicks\n",
    "Imps = Adv_group['click'].count()\n",
    "#Imps\n",
    "Cost =  Adv_group['payprice'].sum()/1000\n",
    "#Cost: the unit is fen/one impression, bidprice or payprice is fen oer 1000 impressions\n",
    "CTR = Clicks/Imps\n",
    "#CTR\n",
    "CPM = Cost/Imps\n",
    "CPM = CPM*1000\n",
    "#CPM: cost per mille people, so *1000\n",
    "eCPC = Cost/Clicks\n",
    "#eCPC\n",
    "Train_summ1 = pd.DataFrame({'Imps':Imps, 'Clicks':Clicks, 'Cost':Cost, 'CTR':CTR, 'CPM':CPM, 'eCPC':eCPC})\n",
    "Train_summ1"
   ]
  },
  {
   "cell_type": "code",
   "execution_count": 18,
   "metadata": {},
   "outputs": [
    {
     "name": "stdout",
     "output_type": "stream",
     "text": [
      "78.18824526893674\n",
      "0.0006569859731392388\n",
      "202\n",
      "2641.9188888888893\n",
      "303925\n",
      "122.04691215728715\n"
     ]
    }
   ],
   "source": [
    "print(np.mean(Train_summ1.CPM))\n",
    "print(np.mean(Train_summ1.CTR))\n",
    "print(np.sum(Train_summ1.Clicks))\n",
    "print(np.mean(Train_summ1.Cost))\n",
    "print(np.sum(Train_summ1.Imps))\n",
    "print(np.mean(Train_summ1.eCPC))"
   ]
  },
  {
   "cell_type": "code",
   "execution_count": 16,
   "metadata": {
    "scrolled": true
   },
   "outputs": [
    {
     "data": {
      "text/plain": [
       "303375"
      ]
     },
     "execution_count": 16,
     "metadata": {},
     "output_type": "execute_result"
    }
   ],
   "source": [
    "len(df1)"
   ]
  },
  {
   "cell_type": "code",
   "execution_count": 19,
   "metadata": {},
   "outputs": [],
   "source": [
    "train_X = df.drop(['click','bidprice', 'payprice'], axis=1)\n",
    "train_y = df[['click','bidprice', 'payprice']].copy()\n",
    "\n",
    "valid_X = df2.drop(['click','bidprice', 'payprice'], axis=1)\n",
    "valid_y = df2[['click','bidprice', 'payprice']].copy()"
   ]
  },
  {
   "cell_type": "code",
   "execution_count": null,
   "metadata": {},
   "outputs": [],
   "source": []
  }
 ],
 "metadata": {
  "kernelspec": {
   "display_name": "Python 3",
   "language": "python",
   "name": "python3"
  },
  "language_info": {
   "codemirror_mode": {
    "name": "ipython",
    "version": 3
   },
   "file_extension": ".py",
   "mimetype": "text/x-python",
   "name": "python",
   "nbconvert_exporter": "python",
   "pygments_lexer": "ipython3",
   "version": "3.6.4"
  }
 },
 "nbformat": 4,
 "nbformat_minor": 2
}
